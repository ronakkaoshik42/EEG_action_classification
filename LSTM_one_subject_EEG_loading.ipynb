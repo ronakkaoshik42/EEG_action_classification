{
 "cells": [
  {
   "cell_type": "code",
   "execution_count": 3,
   "metadata": {},
   "outputs": [],
   "source": [
    "import numpy as np\n",
    "import pandas as pd\n",
    "import keras\n",
    "from tensorflow.keras.models import Sequential\n",
    "from tensorflow.keras.layers import Dense, Activation, Flatten,Dropout\n",
    "from tensorflow.keras.layers import Conv2D,BatchNormalization,MaxPooling2D,Reshape, Dense, Embedding, LSTM, Bidirectional\n",
    "from tensorflow.keras.utils import to_categorical\n",
    "import matplotlib.pyplot as plt"
   ]
  },
  {
   "cell_type": "code",
   "execution_count": 4,
   "metadata": {},
   "outputs": [],
   "source": [
    "X_test = np.load(\"X_test.npy\")\n",
    "y_test = np.load(\"y_test.npy\")\n",
    "person_train_valid = np.load(\"person_train_valid.npy\")\n",
    "X_train_valid = np.load(\"X_train_valid.npy\")\n",
    "y_train_valid = np.load(\"y_train_valid.npy\")\n",
    "person_test = np.load(\"person_test.npy\")"
   ]
  },
  {
   "cell_type": "markdown",
   "metadata": {},
   "source": [
    "### Shape of data"
   ]
  },
  {
   "cell_type": "code",
   "execution_count": 5,
   "metadata": {},
   "outputs": [
    {
     "name": "stdout",
     "output_type": "stream",
     "text": [
      "Training/Valid data shape: (2115, 22, 1000)\n",
      "Test data shape: (443, 22, 1000)\n",
      "Training/Valid target shape: (2115,)\n",
      "Test target shape: (443,)\n",
      "Person train/valid shape: (2115, 1)\n",
      "Person test shape: (443, 1)\n"
     ]
    }
   ],
   "source": [
    "print ('Training/Valid data shape: {}'.format(X_train_valid.shape))\n",
    "print ('Test data shape: {}'.format(X_test.shape))\n",
    "print ('Training/Valid target shape: {}'.format(y_train_valid.shape))\n",
    "print ('Test target shape: {}'.format(y_test.shape))\n",
    "print ('Person train/valid shape: {}'.format(person_train_valid.shape))\n",
    "print ('Person test shape: {}'.format(person_test.shape))"
   ]
  },
  {
   "cell_type": "code",
   "execution_count": 6,
   "metadata": {},
   "outputs": [],
   "source": [
    "index_train = np.where(person_train_valid==0)[0]\n",
    "index_test = np.where(person_test==0)[0]\n",
    "\n",
    "X_train_valid = X_train_valid[index_train,:,:]\n",
    "y_train_valid = y_train_valid[index_train]\n",
    "X_test = X_test[index_test,:,:]\n",
    "y_test = y_test[index_test]"
   ]
  },
  {
   "cell_type": "code",
   "execution_count": 7,
   "metadata": {},
   "outputs": [
    {
     "name": "stdout",
     "output_type": "stream",
     "text": [
      "For one participant\n",
      "Training/Valid data shape: (237, 22, 1000)\n",
      "Test data shape: (50, 22, 1000)\n",
      "Training/Valid target shape: (237,)\n",
      "Test target shape: (50,)\n"
     ]
    }
   ],
   "source": [
    "print('For one participant')\n",
    "print ('Training/Valid data shape: {}'.format(X_train_valid.shape))\n",
    "print ('Test data shape: {}'.format(X_test.shape))\n",
    "print ('Training/Valid target shape: {}'.format(y_train_valid.shape))\n",
    "print ('Test target shape: {}'.format(y_test.shape))"
   ]
  },
  {
   "cell_type": "code",
   "execution_count": 8,
   "metadata": {},
   "outputs": [],
   "source": [
    "## Adjusting the labels to {0,1,2,3}\n",
    "\n",
    "# Cue onset left - 0\n",
    "# Cue onset right - 1\n",
    "# Cue onset foot - 2\n",
    "# Cue onset tongue - 3\n",
    "\n",
    "y_train_valid -= 769\n",
    "y_test -= 769"
   ]
  },
  {
   "cell_type": "code",
   "execution_count": 9,
   "metadata": {},
   "outputs": [
    {
     "name": "stdout",
     "output_type": "stream",
     "text": [
      "Shape of training set: (187, 22, 1000)\n",
      "Shape of validation set: (50, 22, 1000)\n",
      "Shape of training labels: (187,)\n",
      "Shape of validation labels: (50,)\n",
      "Shape of training labels after categorical conversion: (187, 4)\n",
      "Shape of validation labels after categorical conversion: (50, 4)\n",
      "Shape of test labels after categorical conversion: (50, 4)\n",
      "Shape of training set after adding width info: (187, 22, 1000, 1)\n",
      "Shape of validation set after adding width info: (50, 22, 1000, 1)\n",
      "Shape of test set after adding width info: (50, 22, 1000, 1)\n",
      "Shape of training set after dimension reshaping: (187, 1000, 1, 22)\n",
      "Shape of validation set after dimension reshaping: (50, 1000, 1, 22)\n",
      "Shape of test set after dimension reshaping: (50, 1000, 1, 22)\n"
     ]
    }
   ],
   "source": [
    "## Creating the training and validation sets\n",
    "\n",
    "# First generating the training and validation indices using random splitting\n",
    "\n",
    "num_samples = 237\n",
    "num_samples_valid = 50\n",
    "\n",
    "ind_valid = np.random.choice(num_samples, num_samples_valid, replace=False)\n",
    "ind_train = np.array(list(set(range(num_samples)).difference(set(ind_valid))))\n",
    "\n",
    "# Creating the training and validation sets using the generated indices\n",
    "(x_train, x_valid) = X_train_valid[ind_train], X_train_valid[ind_valid] \n",
    "(y_train, y_valid) = y_train_valid[ind_train], y_train_valid[ind_valid]\n",
    "print('Shape of training set:',x_train.shape)\n",
    "print('Shape of validation set:',x_valid.shape)\n",
    "print('Shape of training labels:',y_train.shape)\n",
    "print('Shape of validation labels:',y_valid.shape)\n",
    "\n",
    "\n",
    "# Converting the labels to categorical variables for multiclass classification\n",
    "y_train = to_categorical(y_train, 4)\n",
    "y_valid = to_categorical(y_valid, 4)\n",
    "y_test = to_categorical(y_test, 4)\n",
    "print('Shape of training labels after categorical conversion:',y_train.shape)\n",
    "print('Shape of validation labels after categorical conversion:',y_valid.shape)\n",
    "print('Shape of test labels after categorical conversion:',y_test.shape)\n",
    "\n",
    "# Adding width of the segment to be 1\n",
    "x_train = x_train.reshape(x_train.shape[0], x_train.shape[1], x_train.shape[2], 1)\n",
    "x_valid = x_valid.reshape(x_valid.shape[0], x_valid.shape[1], x_train.shape[2], 1)\n",
    "x_test = X_test.reshape(X_test.shape[0], X_test.shape[1], X_test.shape[2], 1)\n",
    "print('Shape of training set after adding width info:',x_train.shape)\n",
    "print('Shape of validation set after adding width info:',x_valid.shape)\n",
    "print('Shape of test set after adding width info:',x_test.shape)\n",
    "\n",
    "\n",
    "# Reshaping the training and validation dataset\n",
    "x_train = np.swapaxes(x_train, 1,3)\n",
    "x_train = np.swapaxes(x_train, 1,2)\n",
    "x_valid = np.swapaxes(x_valid, 1,3)\n",
    "x_valid = np.swapaxes(x_valid, 1,2)\n",
    "x_test = np.swapaxes(x_test, 1,3)\n",
    "x_test = np.swapaxes(x_test, 1,2)\n",
    "print('Shape of training set after dimension reshaping:',x_train.shape)\n",
    "print('Shape of validation set after dimension reshaping:',x_valid.shape)\n",
    "print('Shape of test set after dimension reshaping:',x_test.shape)"
   ]
  },
  {
   "cell_type": "markdown",
   "metadata": {},
   "source": [
    "# FC Model for subject 0"
   ]
  },
  {
   "cell_type": "code",
   "execution_count": 25,
   "metadata": {},
   "outputs": [
    {
     "name": "stdout",
     "output_type": "stream",
     "text": [
      "Model: \"sequential\"\n",
      "_________________________________________________________________\n",
      "Layer (type)                 Output Shape              Param #   \n",
      "=================================================================\n",
      "dense (Dense)                (None, 1000, 1, 10)       230       \n",
      "_________________________________________________________________\n",
      "batch_normalization (BatchNo (None, 1000, 1, 10)       40        \n",
      "_________________________________________________________________\n",
      "dense_1 (Dense)              (None, 1000, 1, 20)       220       \n",
      "_________________________________________________________________\n",
      "batch_normalization_1 (Batch (None, 1000, 1, 20)       80        \n",
      "_________________________________________________________________\n",
      "dense_2 (Dense)              (None, 1000, 1, 50)       1050      \n",
      "_________________________________________________________________\n",
      "batch_normalization_2 (Batch (None, 1000, 1, 50)       200       \n",
      "_________________________________________________________________\n",
      "flatten (Flatten)            (None, 50000)             0         \n",
      "_________________________________________________________________\n",
      "dense_3 (Dense)              (None, 4)                 200004    \n",
      "=================================================================\n",
      "Total params: 201,824\n",
      "Trainable params: 201,664\n",
      "Non-trainable params: 160\n",
      "_________________________________________________________________\n"
     ]
    }
   ],
   "source": [
    "# Building the FC model using sequential class\n",
    "basic_fc_model = Sequential()\n",
    "\n",
    "# First FC layer \n",
    "basic_fc_model.add(Dense(10,input_shape=(1000,1,22))) # For the first layer we have to specify the input shape\n",
    "\n",
    "# BN layer\n",
    "basic_fc_model.add(BatchNormalization())\n",
    "\n",
    "# Second FC layer\n",
    "basic_fc_model.add(Dense(20)) # We don't need to specify the input shape it's inferred from the previous layer\n",
    "\n",
    "# BN layer\n",
    "basic_fc_model.add(BatchNormalization())\n",
    "\n",
    "# Third FC layer\n",
    "basic_fc_model.add(Dense(50))\n",
    "\n",
    "# BN layer\n",
    "basic_fc_model.add(BatchNormalization())\n",
    "\n",
    "# Output layer with Softmax activation\n",
    "basic_fc_model.add(Flatten()) # Flattens the input\n",
    "basic_fc_model.add(Dense(4, activation='softmax')) # Output FC layer with softmax activation\n",
    "\n",
    "# Printing the model summary\n",
    "basic_fc_model.summary()"
   ]
  },
  {
   "cell_type": "code",
   "execution_count": 26,
   "metadata": {},
   "outputs": [],
   "source": [
    "# Model parameters\n",
    "import tensorflow as tf\n",
    "learning_rate = 1e-3\n",
    "epochs = 50\n",
    "optimizer = tf.keras.optimizers.Adam(lr=learning_rate)"
   ]
  },
  {
   "cell_type": "code",
   "execution_count": 27,
   "metadata": {},
   "outputs": [
    {
     "name": "stdout",
     "output_type": "stream",
     "text": [
      "Train on 187 samples, validate on 50 samples\n",
      "Epoch 1/50\n",
      "187/187 [==============================] - 1s 8ms/sample - loss: 3.0482 - accuracy: 0.2406 - val_loss: 8.8977 - val_accuracy: 0.4200\n",
      "Epoch 2/50\n",
      "187/187 [==============================] - 0s 2ms/sample - loss: 0.6310 - accuracy: 0.8610 - val_loss: 8.8806 - val_accuracy: 0.4400\n",
      "Epoch 3/50\n",
      "187/187 [==============================] - 0s 2ms/sample - loss: 0.1417 - accuracy: 0.9786 - val_loss: 8.8029 - val_accuracy: 0.3800\n",
      "Epoch 4/50\n",
      "187/187 [==============================] - 0s 2ms/sample - loss: 0.0507 - accuracy: 0.9947 - val_loss: 8.7312 - val_accuracy: 0.3800\n",
      "Epoch 5/50\n",
      "187/187 [==============================] - 0s 2ms/sample - loss: 0.0025 - accuracy: 1.0000 - val_loss: 8.8599 - val_accuracy: 0.3800\n",
      "Epoch 6/50\n",
      "187/187 [==============================] - 0s 2ms/sample - loss: 0.0053 - accuracy: 1.0000 - val_loss: 8.8808 - val_accuracy: 0.3800\n",
      "Epoch 7/50\n",
      "187/187 [==============================] - 0s 2ms/sample - loss: 0.0027 - accuracy: 1.0000 - val_loss: 8.8234 - val_accuracy: 0.3400\n",
      "Epoch 8/50\n",
      "187/187 [==============================] - 0s 2ms/sample - loss: 8.2441e-04 - accuracy: 1.0000 - val_loss: 8.7211 - val_accuracy: 0.3400\n",
      "Epoch 9/50\n",
      "187/187 [==============================] - 0s 2ms/sample - loss: 3.1502e-04 - accuracy: 1.0000 - val_loss: 8.6002 - val_accuracy: 0.3600\n",
      "Epoch 10/50\n",
      "187/187 [==============================] - 0s 2ms/sample - loss: 1.7973e-04 - accuracy: 1.0000 - val_loss: 8.4728 - val_accuracy: 0.3600\n",
      "Epoch 11/50\n",
      "187/187 [==============================] - 0s 2ms/sample - loss: 1.4139e-04 - accuracy: 1.0000 - val_loss: 8.3471 - val_accuracy: 0.3600\n",
      "Epoch 12/50\n",
      "187/187 [==============================] - 0s 2ms/sample - loss: 1.3326e-04 - accuracy: 1.0000 - val_loss: 8.2263 - val_accuracy: 0.3600\n",
      "Epoch 13/50\n",
      "187/187 [==============================] - 0s 2ms/sample - loss: 1.1525e-04 - accuracy: 1.0000 - val_loss: 8.1134 - val_accuracy: 0.3600\n",
      "Epoch 14/50\n",
      "187/187 [==============================] - 0s 2ms/sample - loss: 1.0597e-04 - accuracy: 1.0000 - val_loss: 8.0084 - val_accuracy: 0.3600\n",
      "Epoch 15/50\n",
      "187/187 [==============================] - 0s 2ms/sample - loss: 8.7045e-05 - accuracy: 1.0000 - val_loss: 7.9124 - val_accuracy: 0.3600\n",
      "Epoch 16/50\n",
      "187/187 [==============================] - 0s 2ms/sample - loss: 8.4788e-05 - accuracy: 1.0000 - val_loss: 7.8248 - val_accuracy: 0.3600\n",
      "Epoch 17/50\n",
      "187/187 [==============================] - 0s 2ms/sample - loss: 6.1159e-05 - accuracy: 1.0000 - val_loss: 7.7453 - val_accuracy: 0.3600\n",
      "Epoch 18/50\n",
      "187/187 [==============================] - 0s 2ms/sample - loss: 6.3595e-05 - accuracy: 1.0000 - val_loss: 7.6731 - val_accuracy: 0.3600\n",
      "Epoch 19/50\n",
      "187/187 [==============================] - 0s 2ms/sample - loss: 5.1789e-05 - accuracy: 1.0000 - val_loss: 7.6084 - val_accuracy: 0.3800\n",
      "Epoch 20/50\n",
      "187/187 [==============================] - 0s 2ms/sample - loss: 4.5960e-05 - accuracy: 1.0000 - val_loss: 7.5505 - val_accuracy: 0.3800\n",
      "Epoch 21/50\n",
      "187/187 [==============================] - 0s 2ms/sample - loss: 4.0414e-05 - accuracy: 1.0000 - val_loss: 7.4989 - val_accuracy: 0.3800\n",
      "Epoch 22/50\n",
      "187/187 [==============================] - 0s 2ms/sample - loss: 3.6954e-05 - accuracy: 1.0000 - val_loss: 7.4526 - val_accuracy: 0.3800\n",
      "Epoch 23/50\n",
      "187/187 [==============================] - 0s 2ms/sample - loss: 3.4678e-05 - accuracy: 1.0000 - val_loss: 7.4114 - val_accuracy: 0.3800\n",
      "Epoch 24/50\n",
      "187/187 [==============================] - 0s 2ms/sample - loss: 2.8638e-05 - accuracy: 1.0000 - val_loss: 7.3750 - val_accuracy: 0.3800\n",
      "Epoch 25/50\n",
      "187/187 [==============================] - 0s 2ms/sample - loss: 2.8948e-05 - accuracy: 1.0000 - val_loss: 7.3426 - val_accuracy: 0.3800\n",
      "Epoch 26/50\n",
      "187/187 [==============================] - 0s 2ms/sample - loss: 2.7105e-05 - accuracy: 1.0000 - val_loss: 7.3142 - val_accuracy: 0.3800\n",
      "Epoch 27/50\n",
      "187/187 [==============================] - 0s 2ms/sample - loss: 2.3148e-05 - accuracy: 1.0000 - val_loss: 7.2894 - val_accuracy: 0.3800\n",
      "Epoch 28/50\n",
      "187/187 [==============================] - 0s 2ms/sample - loss: 2.2819e-05 - accuracy: 1.0000 - val_loss: 7.2679 - val_accuracy: 0.3800\n",
      "Epoch 29/50\n",
      "187/187 [==============================] - 0s 2ms/sample - loss: 2.1517e-05 - accuracy: 1.0000 - val_loss: 7.2492 - val_accuracy: 0.3800\n",
      "Epoch 30/50\n",
      "187/187 [==============================] - 0s 2ms/sample - loss: 2.5581e-05 - accuracy: 1.0000 - val_loss: 7.2331 - val_accuracy: 0.3800\n",
      "Epoch 31/50\n",
      "187/187 [==============================] - 0s 2ms/sample - loss: 2.1942e-05 - accuracy: 1.0000 - val_loss: 7.2194 - val_accuracy: 0.3800\n",
      "Epoch 32/50\n",
      "187/187 [==============================] - 0s 2ms/sample - loss: 2.1870e-05 - accuracy: 1.0000 - val_loss: 7.2080 - val_accuracy: 0.3800\n",
      "Epoch 33/50\n",
      "187/187 [==============================] - 0s 2ms/sample - loss: 1.8985e-05 - accuracy: 1.0000 - val_loss: 7.1991 - val_accuracy: 0.3800\n",
      "Epoch 34/50\n",
      "187/187 [==============================] - 0s 2ms/sample - loss: 1.9528e-05 - accuracy: 1.0000 - val_loss: 7.1922 - val_accuracy: 0.3800\n",
      "Epoch 35/50\n",
      "187/187 [==============================] - 0s 2ms/sample - loss: 1.8283e-05 - accuracy: 1.0000 - val_loss: 7.1871 - val_accuracy: 0.3800\n",
      "Epoch 36/50\n",
      "187/187 [==============================] - 0s 2ms/sample - loss: 1.7114e-05 - accuracy: 1.0000 - val_loss: 7.1835 - val_accuracy: 0.3800\n",
      "Epoch 37/50\n",
      "187/187 [==============================] - 0s 2ms/sample - loss: 1.6347e-05 - accuracy: 1.0000 - val_loss: 7.1812 - val_accuracy: 0.3800\n",
      "Epoch 38/50\n",
      "187/187 [==============================] - 0s 2ms/sample - loss: 1.5918e-05 - accuracy: 1.0000 - val_loss: 7.1804 - val_accuracy: 0.3800\n",
      "Epoch 39/50\n",
      "187/187 [==============================] - 0s 2ms/sample - loss: 1.5088e-05 - accuracy: 1.0000 - val_loss: 7.1810 - val_accuracy: 0.3800\n",
      "Epoch 40/50\n",
      "187/187 [==============================] - 0s 2ms/sample - loss: 1.6506e-05 - accuracy: 1.0000 - val_loss: 7.1826 - val_accuracy: 0.3800\n",
      "Epoch 41/50\n",
      "187/187 [==============================] - 0s 2ms/sample - loss: 1.6539e-05 - accuracy: 1.0000 - val_loss: 7.1853 - val_accuracy: 0.3800\n",
      "Epoch 42/50\n",
      "187/187 [==============================] - 0s 2ms/sample - loss: 1.5782e-05 - accuracy: 1.0000 - val_loss: 7.1889 - val_accuracy: 0.3800\n",
      "Epoch 43/50\n",
      "187/187 [==============================] - 0s 2ms/sample - loss: 1.4694e-05 - accuracy: 1.0000 - val_loss: 7.1934 - val_accuracy: 0.3800\n",
      "Epoch 44/50\n",
      "187/187 [==============================] - 0s 2ms/sample - loss: 1.3569e-05 - accuracy: 1.0000 - val_loss: 7.1989 - val_accuracy: 0.4000\n",
      "Epoch 45/50\n",
      "187/187 [==============================] - 0s 2ms/sample - loss: 1.1963e-05 - accuracy: 1.0000 - val_loss: 7.2050 - val_accuracy: 0.4000\n",
      "Epoch 46/50\n",
      "187/187 [==============================] - 0s 2ms/sample - loss: 1.2575e-05 - accuracy: 1.0000 - val_loss: 7.2118 - val_accuracy: 0.4000\n",
      "Epoch 47/50\n",
      "187/187 [==============================] - 0s 3ms/sample - loss: 1.3167e-05 - accuracy: 1.0000 - val_loss: 7.2190 - val_accuracy: 0.4000\n",
      "Epoch 48/50\n",
      "187/187 [==============================] - 0s 2ms/sample - loss: 1.2852e-05 - accuracy: 1.0000 - val_loss: 7.2272 - val_accuracy: 0.4000\n",
      "Epoch 49/50\n",
      "187/187 [==============================] - 0s 2ms/sample - loss: 1.3313e-05 - accuracy: 1.0000 - val_loss: 7.2358 - val_accuracy: 0.4000\n",
      "Epoch 50/50\n",
      "187/187 [==============================] - 0s 2ms/sample - loss: 1.2014e-05 - accuracy: 1.0000 - val_loss: 7.2449 - val_accuracy: 0.4000\n"
     ]
    }
   ],
   "source": [
    "# Compiling the model\n",
    "basic_fc_model.compile(loss='categorical_crossentropy',\n",
    "                 optimizer=optimizer,\n",
    "                 metrics=['accuracy'])\n",
    "\n",
    "# Training and validating the model\n",
    "basic_fc_model_results = basic_fc_model.fit(x_train,\n",
    "             y_train,\n",
    "             batch_size=64,\n",
    "             epochs=epochs,\n",
    "             validation_data=(x_valid, y_valid), verbose=True)"
   ]
  },
  {
   "cell_type": "code",
   "execution_count": 28,
   "metadata": {},
   "outputs": [
    {
     "data": {
      "image/png": "[encoded data removed]",
      "text/plain": [
       "<Figure size 432x288 with 1 Axes>"
      ]
     },
     "metadata": {
      "needs_background": "light"
     },
     "output_type": "display_data"
    },
    {
     "data": {
      "image/png": "[encoded data removed]",
      "text/plain": [
       "<Figure size 432x288 with 1 Axes>"
      ]
     },
     "metadata": {
      "needs_background": "light"
     },
     "output_type": "display_data"
    }
   ],
   "source": [
    "import matplotlib.pyplot as plt\n",
    "\n",
    "# Plotting accuracy trajectory\n",
    "plt.plot(basic_fc_model_results.history['accuracy'])\n",
    "plt.plot(basic_fc_model_results.history['val_accuracy'])\n",
    "plt.title('Basic FC model accuracy trajectory')\n",
    "plt.ylabel('accuracy')\n",
    "plt.xlabel('epoch')\n",
    "plt.legend(['train', 'val'], loc='upper left')\n",
    "plt.show()\n",
    "\n",
    "# Plotting loss trajectory\n",
    "plt.plot(basic_fc_model_results.history['loss'],'o')\n",
    "plt.plot(basic_fc_model_results.history['val_loss'],'o')\n",
    "plt.title('Basic FC model loss trajectory')\n",
    "plt.ylabel('loss')\n",
    "plt.xlabel('epoch')\n",
    "plt.legend(['train', 'val'], loc='upper left')\n",
    "plt.show()"
   ]
  },
  {
   "cell_type": "code",
   "execution_count": 29,
   "metadata": {},
   "outputs": [
    {
     "name": "stdout",
     "output_type": "stream",
     "text": [
      "Test accuracy of the basic FC model: 0.26\n"
     ]
    }
   ],
   "source": [
    "## Testing the basic FC model\n",
    "\n",
    "score = basic_fc_model.evaluate(x_test, y_test, verbose=0)\n",
    "print('Test accuracy of the basic FC model:',score[1])"
   ]
  },
  {
   "cell_type": "markdown",
   "metadata": {},
   "source": [
    "# CNN Model for subject 0"
   ]
  },
  {
   "cell_type": "code",
   "execution_count": 30,
   "metadata": {},
   "outputs": [
    {
     "name": "stdout",
     "output_type": "stream",
     "text": [
      "Model: \"sequential_1\"\n",
      "_________________________________________________________________\n",
      "Layer (type)                 Output Shape              Param #   \n",
      "=================================================================\n",
      "conv2d (Conv2D)              (None, 1000, 1, 25)       5525      \n",
      "_________________________________________________________________\n",
      "max_pooling2d (MaxPooling2D) (None, 334, 1, 25)        0         \n",
      "_________________________________________________________________\n",
      "batch_normalization_3 (Batch (None, 334, 1, 25)        100       \n",
      "_________________________________________________________________\n",
      "dropout (Dropout)            (None, 334, 1, 25)        0         \n",
      "_________________________________________________________________\n",
      "conv2d_1 (Conv2D)            (None, 334, 1, 50)        12550     \n",
      "_________________________________________________________________\n",
      "max_pooling2d_1 (MaxPooling2 (None, 112, 1, 50)        0         \n",
      "_________________________________________________________________\n",
      "batch_normalization_4 (Batch (None, 112, 1, 50)        200       \n",
      "_________________________________________________________________\n",
      "dropout_1 (Dropout)          (None, 112, 1, 50)        0         \n",
      "_________________________________________________________________\n",
      "conv2d_2 (Conv2D)            (None, 112, 1, 100)       50100     \n",
      "_________________________________________________________________\n",
      "max_pooling2d_2 (MaxPooling2 (None, 38, 1, 100)        0         \n",
      "_________________________________________________________________\n",
      "batch_normalization_5 (Batch (None, 38, 1, 100)        400       \n",
      "_________________________________________________________________\n",
      "dropout_2 (Dropout)          (None, 38, 1, 100)        0         \n",
      "_________________________________________________________________\n",
      "conv2d_3 (Conv2D)            (None, 38, 1, 200)        200200    \n",
      "_________________________________________________________________\n",
      "max_pooling2d_3 (MaxPooling2 (None, 13, 1, 200)        0         \n",
      "_________________________________________________________________\n",
      "batch_normalization_6 (Batch (None, 13, 1, 200)        800       \n",
      "_________________________________________________________________\n",
      "dropout_3 (Dropout)          (None, 13, 1, 200)        0         \n",
      "_________________________________________________________________\n",
      "flatten_1 (Flatten)          (None, 2600)              0         \n",
      "_________________________________________________________________\n",
      "dense_4 (Dense)              (None, 4)                 10404     \n",
      "=================================================================\n",
      "Total params: 280,279\n",
      "Trainable params: 279,529\n",
      "Non-trainable params: 750\n",
      "_________________________________________________________________\n"
     ]
    }
   ],
   "source": [
    "# Building the CNN model using sequential class\n",
    "basic_cnn_model = Sequential()\n",
    "\n",
    "# Conv. block 1\n",
    "basic_cnn_model.add(Conv2D(filters=25, kernel_size=(10,1), padding='same', activation='elu', input_shape=(1000,1,22)))\n",
    "basic_cnn_model.add(MaxPooling2D(pool_size=(3,1), padding='same'))\n",
    "basic_cnn_model.add(BatchNormalization())\n",
    "basic_cnn_model.add(Dropout(0.5))\n",
    "\n",
    "# Conv. block 2\n",
    "basic_cnn_model.add(Conv2D(filters=50, kernel_size=(10,1), padding='same', activation='elu'))\n",
    "basic_cnn_model.add(MaxPooling2D(pool_size=(3,1), padding='same'))\n",
    "basic_cnn_model.add(BatchNormalization())\n",
    "basic_cnn_model.add(Dropout(0.5))\n",
    "\n",
    "# Conv. block 3\n",
    "basic_cnn_model.add(Conv2D(filters=100, kernel_size=(10,1), padding='same', activation='elu'))\n",
    "basic_cnn_model.add(MaxPooling2D(pool_size=(3,1), padding='same'))\n",
    "basic_cnn_model.add(BatchNormalization())\n",
    "basic_cnn_model.add(Dropout(0.5))\n",
    "\n",
    "# Conv. block 4\n",
    "basic_cnn_model.add(Conv2D(filters=200, kernel_size=(10,1), padding='same', activation='elu'))\n",
    "basic_cnn_model.add(MaxPooling2D(pool_size=(3,1), padding='same'))\n",
    "basic_cnn_model.add(BatchNormalization())\n",
    "basic_cnn_model.add(Dropout(0.5))\n",
    "\n",
    "# Output layer with Softmax activation\n",
    "basic_cnn_model.add(Flatten()) # Flattens the input\n",
    "basic_cnn_model.add(Dense(4, activation='softmax')) # Output FC layer with softmax activation\n",
    "\n",
    "\n",
    "# Printing the model summary\n",
    "basic_cnn_model.summary()"
   ]
  },
  {
   "cell_type": "code",
   "execution_count": 31,
   "metadata": {},
   "outputs": [],
   "source": [
    "# Model parameters\n",
    "learning_rate = 1e-3\n",
    "epochs = 50\n",
    "cnn_optimizer = tf.keras.optimizers.Adam(lr=learning_rate)"
   ]
  },
  {
   "cell_type": "code",
   "execution_count": 32,
   "metadata": {},
   "outputs": [
    {
     "name": "stdout",
     "output_type": "stream",
     "text": [
      "Train on 187 samples, validate on 50 samples\n",
      "Epoch 1/50\n",
      "187/187 [==============================] - 1s 8ms/sample - loss: 2.4597 - accuracy: 0.2193 - val_loss: 4.8414 - val_accuracy: 0.3000\n",
      "Epoch 2/50\n",
      "187/187 [==============================] - 0s 2ms/sample - loss: 1.8863 - accuracy: 0.3316 - val_loss: 7.2195 - val_accuracy: 0.3400\n",
      "Epoch 3/50\n",
      "187/187 [==============================] - 0s 3ms/sample - loss: 2.0150 - accuracy: 0.3422 - val_loss: 7.2835 - val_accuracy: 0.3400\n",
      "Epoch 4/50\n",
      "187/187 [==============================] - 0s 2ms/sample - loss: 1.9120 - accuracy: 0.3316 - val_loss: 6.1955 - val_accuracy: 0.3800\n",
      "Epoch 5/50\n",
      "187/187 [==============================] - 0s 2ms/sample - loss: 1.7726 - accuracy: 0.4171 - val_loss: 5.8035 - val_accuracy: 0.3600\n",
      "Epoch 6/50\n",
      "187/187 [==============================] - 0s 2ms/sample - loss: 1.5919 - accuracy: 0.4171 - val_loss: 5.7134 - val_accuracy: 0.3800\n",
      "Epoch 7/50\n",
      "187/187 [==============================] - 0s 2ms/sample - loss: 1.5106 - accuracy: 0.4492 - val_loss: 5.6099 - val_accuracy: 0.3800\n",
      "Epoch 8/50\n",
      "187/187 [==============================] - 0s 2ms/sample - loss: 1.4697 - accuracy: 0.5134 - val_loss: 5.1997 - val_accuracy: 0.4200\n",
      "Epoch 9/50\n",
      "187/187 [==============================] - 0s 2ms/sample - loss: 1.5184 - accuracy: 0.4973 - val_loss: 4.7244 - val_accuracy: 0.4200\n",
      "Epoch 10/50\n",
      "187/187 [==============================] - 0s 2ms/sample - loss: 1.4581 - accuracy: 0.4973 - val_loss: 4.6568 - val_accuracy: 0.3800\n",
      "Epoch 11/50\n",
      "187/187 [==============================] - 0s 2ms/sample - loss: 1.2697 - accuracy: 0.5455 - val_loss: 4.6973 - val_accuracy: 0.3600\n",
      "Epoch 12/50\n",
      "187/187 [==============================] - 0s 2ms/sample - loss: 1.1743 - accuracy: 0.6043 - val_loss: 4.5833 - val_accuracy: 0.3600\n",
      "Epoch 13/50\n",
      "187/187 [==============================] - 0s 2ms/sample - loss: 1.1004 - accuracy: 0.5936 - val_loss: 4.6435 - val_accuracy: 0.3800\n",
      "Epoch 14/50\n",
      "187/187 [==============================] - 0s 3ms/sample - loss: 1.0031 - accuracy: 0.6257 - val_loss: 4.7545 - val_accuracy: 0.4000\n",
      "Epoch 15/50\n",
      "187/187 [==============================] - 0s 3ms/sample - loss: 0.9410 - accuracy: 0.6471 - val_loss: 4.6627 - val_accuracy: 0.4000\n",
      "Epoch 16/50\n",
      "187/187 [==============================] - 0s 2ms/sample - loss: 0.8742 - accuracy: 0.6524 - val_loss: 4.2587 - val_accuracy: 0.3600\n",
      "Epoch 17/50\n",
      "187/187 [==============================] - 0s 2ms/sample - loss: 1.0900 - accuracy: 0.5989 - val_loss: 4.1166 - val_accuracy: 0.3800\n",
      "Epoch 18/50\n",
      "187/187 [==============================] - 0s 2ms/sample - loss: 0.8781 - accuracy: 0.6524 - val_loss: 4.0611 - val_accuracy: 0.3800\n",
      "Epoch 19/50\n",
      "187/187 [==============================] - 0s 2ms/sample - loss: 0.8130 - accuracy: 0.6952 - val_loss: 3.9701 - val_accuracy: 0.3800\n",
      "Epoch 20/50\n",
      "187/187 [==============================] - 0s 2ms/sample - loss: 0.7701 - accuracy: 0.7219 - val_loss: 3.7798 - val_accuracy: 0.4000\n",
      "Epoch 21/50\n",
      "187/187 [==============================] - 0s 2ms/sample - loss: 0.8090 - accuracy: 0.7059 - val_loss: 3.6043 - val_accuracy: 0.4200\n",
      "Epoch 22/50\n",
      "187/187 [==============================] - 0s 3ms/sample - loss: 0.6537 - accuracy: 0.7807 - val_loss: 3.5228 - val_accuracy: 0.4200\n",
      "Epoch 23/50\n",
      "187/187 [==============================] - 0s 2ms/sample - loss: 0.7444 - accuracy: 0.7059 - val_loss: 3.5199 - val_accuracy: 0.3800\n",
      "Epoch 24/50\n",
      "187/187 [==============================] - 0s 3ms/sample - loss: 0.5908 - accuracy: 0.7701 - val_loss: 3.4247 - val_accuracy: 0.3800\n",
      "Epoch 25/50\n",
      "187/187 [==============================] - 0s 3ms/sample - loss: 0.5222 - accuracy: 0.7754 - val_loss: 3.3679 - val_accuracy: 0.4000\n",
      "Epoch 26/50\n",
      "187/187 [==============================] - 0s 2ms/sample - loss: 0.7478 - accuracy: 0.7540 - val_loss: 3.2352 - val_accuracy: 0.4200\n",
      "Epoch 27/50\n",
      "187/187 [==============================] - 0s 3ms/sample - loss: 0.6084 - accuracy: 0.7647 - val_loss: 3.1118 - val_accuracy: 0.3600\n",
      "Epoch 28/50\n",
      "187/187 [==============================] - 0s 2ms/sample - loss: 0.5654 - accuracy: 0.7380 - val_loss: 2.8864 - val_accuracy: 0.4400\n",
      "Epoch 29/50\n",
      "187/187 [==============================] - 0s 2ms/sample - loss: 0.5484 - accuracy: 0.7540 - val_loss: 2.5832 - val_accuracy: 0.4600\n",
      "Epoch 30/50\n",
      "187/187 [==============================] - 0s 3ms/sample - loss: 0.5055 - accuracy: 0.8075 - val_loss: 2.3881 - val_accuracy: 0.5000\n",
      "Epoch 31/50\n",
      "187/187 [==============================] - 1s 3ms/sample - loss: 0.4249 - accuracy: 0.8449 - val_loss: 2.2197 - val_accuracy: 0.5000\n",
      "Epoch 32/50\n",
      "187/187 [==============================] - 0s 2ms/sample - loss: 0.4359 - accuracy: 0.8503 - val_loss: 2.1567 - val_accuracy: 0.5000\n",
      "Epoch 33/50\n",
      "187/187 [==============================] - 0s 2ms/sample - loss: 0.4071 - accuracy: 0.8503 - val_loss: 2.0326 - val_accuracy: 0.5000\n",
      "Epoch 34/50\n",
      "187/187 [==============================] - 0s 2ms/sample - loss: 0.4058 - accuracy: 0.8396 - val_loss: 1.9556 - val_accuracy: 0.5200\n",
      "Epoch 35/50\n",
      "187/187 [==============================] - 0s 2ms/sample - loss: 0.3509 - accuracy: 0.8342 - val_loss: 1.8812 - val_accuracy: 0.5200\n",
      "Epoch 36/50\n",
      "187/187 [==============================] - 0s 2ms/sample - loss: 0.4327 - accuracy: 0.7807 - val_loss: 1.7464 - val_accuracy: 0.5800\n",
      "Epoch 37/50\n",
      "187/187 [==============================] - 0s 3ms/sample - loss: 0.3867 - accuracy: 0.8128 - val_loss: 1.5859 - val_accuracy: 0.6200\n",
      "Epoch 38/50\n",
      "187/187 [==============================] - 0s 2ms/sample - loss: 0.3834 - accuracy: 0.8449 - val_loss: 1.4487 - val_accuracy: 0.6000\n",
      "Epoch 39/50\n",
      "187/187 [==============================] - 0s 2ms/sample - loss: 0.3332 - accuracy: 0.8556 - val_loss: 1.3178 - val_accuracy: 0.5800\n",
      "Epoch 40/50\n",
      "187/187 [==============================] - 0s 2ms/sample - loss: 0.2972 - accuracy: 0.9037 - val_loss: 1.2478 - val_accuracy: 0.6000\n",
      "Epoch 41/50\n",
      "187/187 [==============================] - 0s 2ms/sample - loss: 0.3985 - accuracy: 0.8449 - val_loss: 1.1964 - val_accuracy: 0.5800\n",
      "Epoch 42/50\n",
      "187/187 [==============================] - 0s 2ms/sample - loss: 0.3398 - accuracy: 0.8663 - val_loss: 1.2193 - val_accuracy: 0.6000\n",
      "Epoch 43/50\n",
      "187/187 [==============================] - 0s 2ms/sample - loss: 0.3283 - accuracy: 0.8610 - val_loss: 1.2315 - val_accuracy: 0.6000\n",
      "Epoch 44/50\n",
      "187/187 [==============================] - 0s 2ms/sample - loss: 0.3183 - accuracy: 0.8877 - val_loss: 1.2041 - val_accuracy: 0.6400\n",
      "Epoch 45/50\n",
      "187/187 [==============================] - 0s 2ms/sample - loss: 0.2895 - accuracy: 0.8930 - val_loss: 1.2357 - val_accuracy: 0.6200\n",
      "Epoch 46/50\n",
      "187/187 [==============================] - 0s 2ms/sample - loss: 0.3835 - accuracy: 0.8663 - val_loss: 1.3456 - val_accuracy: 0.6000\n",
      "Epoch 47/50\n",
      "187/187 [==============================] - 0s 2ms/sample - loss: 0.2936 - accuracy: 0.9037 - val_loss: 1.3742 - val_accuracy: 0.6200\n",
      "Epoch 48/50\n",
      "187/187 [==============================] - 0s 2ms/sample - loss: 0.2294 - accuracy: 0.9037 - val_loss: 1.3698 - val_accuracy: 0.6200\n",
      "Epoch 49/50\n",
      "187/187 [==============================] - 0s 2ms/sample - loss: 0.2419 - accuracy: 0.8984 - val_loss: 1.4301 - val_accuracy: 0.6400\n",
      "Epoch 50/50\n",
      "187/187 [==============================] - 0s 2ms/sample - loss: 0.2540 - accuracy: 0.9144 - val_loss: 1.5257 - val_accuracy: 0.5600\n"
     ]
    }
   ],
   "source": [
    "# Compiling the model\n",
    "basic_cnn_model.compile(loss='categorical_crossentropy',\n",
    "                 optimizer=cnn_optimizer,\n",
    "                 metrics=['accuracy'])\n",
    "\n",
    "# Training and validating the model\n",
    "basic_cnn_model_results = basic_cnn_model.fit(x_train,\n",
    "             y_train,\n",
    "             batch_size=64,\n",
    "             epochs=epochs,\n",
    "             validation_data=(x_valid, y_valid), verbose=True)"
   ]
  },
  {
   "cell_type": "code",
   "execution_count": 33,
   "metadata": {},
   "outputs": [
    {
     "data": {
      "image/png": "[encoded data removed]",
      "text/plain": [
       "<Figure size 432x288 with 1 Axes>"
      ]
     },
     "metadata": {
      "needs_background": "light"
     },
     "output_type": "display_data"
    },
    {
     "data": {
      "image/png": "[encoded data removed]",
      "text/plain": [
       "<Figure size 432x288 with 1 Axes>"
      ]
     },
     "metadata": {
      "needs_background": "light"
     },
     "output_type": "display_data"
    }
   ],
   "source": [
    "import matplotlib.pyplot as plt\n",
    "\n",
    "# Plotting accuracy trajectory\n",
    "plt.plot(basic_cnn_model_results.history['accuracy'])\n",
    "plt.plot(basic_cnn_model_results.history['val_accuracy'])\n",
    "plt.title('Basic CNN model accuracy trajectory')\n",
    "plt.ylabel('accuracy')\n",
    "plt.xlabel('epoch')\n",
    "plt.legend(['train', 'val'], loc='upper left')\n",
    "plt.show()\n",
    "\n",
    "# Plotting loss trajectory\n",
    "plt.plot(basic_cnn_model_results.history['loss'],'o')\n",
    "plt.plot(basic_cnn_model_results.history['val_loss'],'o')\n",
    "plt.title('Basic CNN model loss trajectory')\n",
    "plt.ylabel('loss')\n",
    "plt.xlabel('epoch')\n",
    "plt.legend(['train', 'val'], loc='upper left')\n",
    "plt.show()"
   ]
  },
  {
   "cell_type": "code",
   "execution_count": 34,
   "metadata": {},
   "outputs": [
    {
     "name": "stdout",
     "output_type": "stream",
     "text": [
      "Test accuracy of the basic CNN model: 0.54\n"
     ]
    }
   ],
   "source": [
    "## Testing the basic CNN model\n",
    "\n",
    "cnn_score = basic_cnn_model.evaluate(x_test, y_test, verbose=0)\n",
    "print('Test accuracy of the basic CNN model:',cnn_score[1])"
   ]
  },
  {
   "cell_type": "markdown",
   "metadata": {},
   "source": [
    "# LSTM Model for Subject 0"
   ]
  },
  {
   "cell_type": "code",
   "execution_count": 49,
   "metadata": {},
   "outputs": [
    {
     "name": "stdout",
     "output_type": "stream",
     "text": [
      "Model: \"sequential_17\"\n",
      "_________________________________________________________________\n",
      "Layer (type)                 Output Shape              Param #   \n",
      "=================================================================\n",
      "lstm_41 (LSTM)               (None, 1000, 128)         77312     \n",
      "_________________________________________________________________\n",
      "lstm_42 (LSTM)               (None, 1000, 64)          49408     \n",
      "_________________________________________________________________\n",
      "lstm_43 (LSTM)               (None, 32)                12416     \n",
      "_________________________________________________________________\n",
      "dense_19 (Dense)             (None, 16)                528       \n",
      "_________________________________________________________________\n",
      "dense_20 (Dense)             (None, 4)                 68        \n",
      "=================================================================\n",
      "Total params: 139,732\n",
      "Trainable params: 139,732\n",
      "Non-trainable params: 0\n",
      "_________________________________________________________________\n",
      "None\n"
     ]
    }
   ],
   "source": [
    "rnn_model=Sequential()\n",
    "\n",
    "rnn_model.add(LSTM(128,input_shape=(1000,22),activation='relu',return_sequences=True))\n",
    "\n",
    "#rnn_model.add(Dropout(0.2))\n",
    "\n",
    "rnn_model.add(LSTM(64,activation='relu', return_sequences=True))\n",
    "\n",
    "#rnn_model.add(Dropout(0.2))\n",
    "\n",
    "rnn_model.add(LSTM(32,activation='relu'))\n",
    "\n",
    "#rnn_model.add(Dropout(0.2))\n",
    "\n",
    "\n",
    "# for units in [128,128,64,32]:\n",
    "\n",
    "# model.add(Dense(units,activation='relu'))\n",
    "# model.add(Dropout(0.2))\n",
    "\n",
    "rnn_model.add(Dense(16,activation='relu'))\n",
    "\n",
    "#rnn_model.add(Dropout(0.2))\n",
    "\n",
    "rnn_model.add(Dense(4,activation='softmax'))\n",
    "\n",
    "rnn_model.compile(loss='categorical_crossentropy',optimizer='adam',metrics=['accuracy'])\n",
    "\n",
    "print(rnn_model.summary())"
   ]
  },
  {
   "cell_type": "code",
   "execution_count": 50,
   "metadata": {},
   "outputs": [],
   "source": [
    "# Shape of training set after adding width info: (187, 22, 1000, 1)\n",
    "# Shape of validation set after adding width info: (50, 22, 1000, 1)\n",
    "# Shape of test set after adding width info: (50, 22, 1000, 1)\n",
    "# Shape of training set after dimension reshaping: (187, 1000, 1, 22)\n",
    "# Shape of validation set after dimension reshaping: (50, 1000, 1, 22)\n",
    "# Shape of test set after dimension reshaping: (50, 1000, 1, 22)\n",
    "\n",
    "x_train_rnn = x_train.reshape((187,1000,22))\n",
    "y_train_rnn = y_train\n",
    "\n",
    "x_valid_rnn = x_valid.reshape((50,1000,22))\n",
    "y_valid_rnn = y_valid"
   ]
  },
  {
   "cell_type": "code",
   "execution_count": null,
   "metadata": {},
   "outputs": [
    {
     "name": "stdout",
     "output_type": "stream",
     "text": [
      "Train on 187 samples, validate on 50 samples\n",
      "Epoch 1/50\n",
      "187/187 [==============================] - 16s 84ms/sample - loss: nan - accuracy: 0.2406 - val_loss: nan - val_accuracy: 0.1800\n",
      "Epoch 2/50\n",
      "187/187 [==============================] - 13s 69ms/sample - loss: nan - accuracy: 0.2727 - val_loss: nan - val_accuracy: 0.1800\n",
      "Epoch 3/50\n",
      "187/187 [==============================] - 14s 73ms/sample - loss: nan - accuracy: 0.2727 - val_loss: nan - val_accuracy: 0.1800\n",
      "Epoch 4/50\n",
      "187/187 [==============================] - 15s 79ms/sample - loss: nan - accuracy: 0.2727 - val_loss: nan - val_accuracy: 0.1800\n",
      "Epoch 5/50\n",
      "187/187 [==============================] - 14s 72ms/sample - loss: nan - accuracy: 0.2727 - val_loss: nan - val_accuracy: 0.1800\n",
      "Epoch 6/50\n",
      "187/187 [==============================] - 13s 72ms/sample - loss: nan - accuracy: 0.2727 - val_loss: nan - val_accuracy: 0.1800\n",
      "Epoch 7/50\n",
      "187/187 [==============================] - 13s 71ms/sample - loss: nan - accuracy: 0.2727 - val_loss: nan - val_accuracy: 0.1800\n",
      "Epoch 8/50\n",
      "187/187 [==============================] - 14s 75ms/sample - loss: nan - accuracy: 0.2727 - val_loss: nan - val_accuracy: 0.1800\n",
      "Epoch 9/50\n",
      "187/187 [==============================] - 14s 75ms/sample - loss: nan - accuracy: 0.2727 - val_loss: nan - val_accuracy: 0.1800\n",
      "Epoch 10/50\n",
      "187/187 [==============================] - 14s 74ms/sample - loss: nan - accuracy: 0.2727 - val_loss: nan - val_accuracy: 0.1800\n",
      "Epoch 11/50\n",
      "187/187 [==============================] - 13s 70ms/sample - loss: nan - accuracy: 0.2727 - val_loss: nan - val_accuracy: 0.1800\n",
      "Epoch 12/50\n",
      "187/187 [==============================] - 13s 72ms/sample - loss: nan - accuracy: 0.2727 - val_loss: nan - val_accuracy: 0.1800\n",
      "Epoch 13/50\n",
      "187/187 [==============================] - 13s 71ms/sample - loss: nan - accuracy: 0.2727 - val_loss: nan - val_accuracy: 0.1800\n",
      "Epoch 14/50\n",
      "187/187 [==============================] - 14s 73ms/sample - loss: nan - accuracy: 0.2727 - val_loss: nan - val_accuracy: 0.1800\n",
      "Epoch 15/50\n",
      "187/187 [==============================] - 14s 72ms/sample - loss: nan - accuracy: 0.2727 - val_loss: nan - val_accuracy: 0.1800\n",
      "Epoch 16/50\n",
      "187/187 [==============================] - 14s 73ms/sample - loss: nan - accuracy: 0.2727 - val_loss: nan - val_accuracy: 0.1800\n",
      "Epoch 17/50\n",
      "187/187 [==============================] - 18s 94ms/sample - loss: nan - accuracy: 0.2727 - val_loss: nan - val_accuracy: 0.1800\n",
      "Epoch 18/50\n",
      "187/187 [==============================] - 14s 75ms/sample - loss: nan - accuracy: 0.2727 - val_loss: nan - val_accuracy: 0.1800\n",
      "Epoch 19/50\n",
      "187/187 [==============================] - 13s 71ms/sample - loss: nan - accuracy: 0.2727 - val_loss: nan - val_accuracy: 0.1800\n",
      "Epoch 20/50\n",
      "187/187 [==============================] - 13s 72ms/sample - loss: nan - accuracy: 0.2727 - val_loss: nan - val_accuracy: 0.1800\n",
      "Epoch 21/50\n"
     ]
    }
   ],
   "source": [
    "basic_rnn_model_results = rnn_model.fit(x_train_rnn, y_train_rnn,\n",
    "           batch_size=32,\n",
    "           epochs=50,\n",
    "           validation_data=(x_valid_rnn, y_valid_rnn), verbose=True)\n",
    "\n",
    "# print(history.history['loss'])\n",
    "# print(history.history['accuracy'])"
   ]
  },
  {
   "cell_type": "code",
   "execution_count": 30,
   "metadata": {},
   "outputs": [
    {
     "data": {
      "image/png": "[encoded data removed]",
      "text/plain": [
       "<Figure size 432x288 with 1 Axes>"
      ]
     },
     "metadata": {
      "needs_background": "light"
     },
     "output_type": "display_data"
    },
    {
     "data": {
      "image/png": "[encoded data removed]",
      "text/plain": [
       "<Figure size 432x288 with 1 Axes>"
      ]
     },
     "metadata": {
      "needs_background": "light"
     },
     "output_type": "display_data"
    }
   ],
   "source": [
    "import matplotlib.pyplot as plt\n",
    "\n",
    "# Plotting accuracy trajectory\n",
    "plt.plot(basic_rnn_model_results.history['accuracy'])\n",
    "plt.plot(basic_rnn_model_results.history['val_accuracy'])\n",
    "plt.title('Basic RNN model accuracy trajectory')\n",
    "plt.ylabel('accuracy')\n",
    "plt.xlabel('epoch')\n",
    "plt.legend(['train', 'val'], loc='upper left')\n",
    "plt.show()\n",
    "\n",
    "# Plotting loss trajectory\n",
    "plt.plot(basic_rnn_model_results.history['loss'],'o')\n",
    "plt.plot(basic_rnn_model_results.history['val_loss'],'o')\n",
    "plt.title('Basic CNN model loss trajectory')\n",
    "plt.ylabel('loss')\n",
    "plt.xlabel('epoch')\n",
    "plt.legend(['train', 'val'], loc='upper left')\n",
    "plt.show()"
   ]
  },
  {
   "cell_type": "code",
   "execution_count": 31,
   "metadata": {},
   "outputs": [],
   "source": [
    "x_test_rnn = x_test.reshape(50,1000,22)\n",
    "y_test_rnn = y_test"
   ]
  },
  {
   "cell_type": "code",
   "execution_count": 33,
   "metadata": {},
   "outputs": [
    {
     "name": "stdout",
     "output_type": "stream",
     "text": [
      "Test accuracy of the basic CNN model: 0.24\n"
     ]
    }
   ],
   "source": [
    "## Testing the basic RNN model\n",
    "\n",
    "rnn_score = rnn_model.evaluate(x_test_rnn, y_test_rnn, verbose=0)\n",
    "print('Test accuracy of the basic CNN model:',rnn_score[1])"
   ]
  },
  {
   "cell_type": "code",
   "execution_count": null,
   "metadata": {},
   "outputs": [],
   "source": []
  }
 ],
 "metadata": {
  "kernelspec": {
   "display_name": "Python 3 (ipykernel)",
   "language": "python",
   "name": "python3"
  },
  "language_info": {
   "codemirror_mode": {
    "name": "ipython",
    "version": 3
   },
   "file_extension": ".py",
   "mimetype": "text/x-python",
   "name": "python",
   "nbconvert_exporter": "python",
   "pygments_lexer": "ipython3",
   "version": "3.7.11"
  }
 },
 "nbformat": 4,
 "nbformat_minor": 2
}
